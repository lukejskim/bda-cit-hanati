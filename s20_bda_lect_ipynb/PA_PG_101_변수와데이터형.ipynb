{
 "cells": [
  {
   "cell_type": "markdown",
   "metadata": {},
   "source": [
    "<center>\n",
    "<b><font size=6>Industry 4.0 의 중심, BigData</font></b>\n",
    "</center>"
   ]
  },
  {
   "cell_type": "markdown",
   "metadata": {},
   "source": [
    "<div align='right'><font size=2 color='gray'>Data Processing Based Python @ <font color='blue'><a href='https://www.facebook.com/jskim.kr'>FB / jskim.kr</a></font>, 김진수</font></div>\n",
    "<hr>"
   ]
  },
  {
   "cell_type": "markdown",
   "metadata": {},
   "source": [
    "# Industry 4.0 의 중심, BigData"
   ]
  },
  {
   "cell_type": "markdown",
   "metadata": {},
   "source": [
    "# Python PG Section 1"
   ]
  },
  {
   "cell_type": "markdown",
   "metadata": {},
   "source": [
    "<font color='brown'>\n",
    "### 화면에 출력하기"
   ]
  },
  {
   "cell_type": "markdown",
   "metadata": {},
   "source": [
    "* 문자 출력"
   ]
  },
  {
   "cell_type": "code",
   "execution_count": 1,
   "metadata": {},
   "outputs": [
    {
     "name": "stdout",
     "output_type": "stream",
     "text": [
      "Hello, Python !!\n"
     ]
    }
   ],
   "source": [
    "print('Hello, Python !!')"
   ]
  },
  {
   "cell_type": "code",
   "execution_count": 2,
   "metadata": {},
   "outputs": [
    {
     "name": "stdout",
     "output_type": "stream",
     "text": [
      "안녕하세요.\n",
      "파이썬세계로 온것을 환영합니다.\n"
     ]
    }
   ],
   "source": [
    "print('안녕하세요.\\n파이썬세계로 온것을 환영합니다.')"
   ]
  },
  {
   "cell_type": "code",
   "execution_count": 3,
   "metadata": {},
   "outputs": [
    {
     "name": "stdout",
     "output_type": "stream",
     "text": [
      "\n",
      "파이썬과정을 통해\n",
      "데이터를 자유자제로 다룰수 있기를 바랍니다.\n",
      "끝까지 화이팅하세요!!!\n",
      "\n"
     ]
    }
   ],
   "source": [
    "print('''\n",
    "파이썬과정을 통해\n",
    "데이터를 자유자제로 다룰수 있기를 바랍니다.\n",
    "끝까지 화이팅하세요!!!\n",
    "''')"
   ]
  },
  {
   "cell_type": "markdown",
   "metadata": {},
   "source": [
    "* 숫자 출력"
   ]
  },
  {
   "cell_type": "code",
   "execution_count": 4,
   "metadata": {},
   "outputs": [
    {
     "name": "stdout",
     "output_type": "stream",
     "text": [
      "100\n"
     ]
    }
   ],
   "source": [
    "print(100)"
   ]
  },
  {
   "cell_type": "code",
   "execution_count": 5,
   "metadata": {},
   "outputs": [
    {
     "name": "stdout",
     "output_type": "stream",
     "text": [
      "350\n",
      "-50\n"
     ]
    }
   ],
   "source": [
    "print(150 + 200)\n",
    "print(150 - 200)"
   ]
  },
  {
   "cell_type": "code",
   "execution_count": 6,
   "metadata": {},
   "outputs": [
    {
     "name": "stdout",
     "output_type": "stream",
     "text": [
      "350.0\n",
      "-50.0\n"
     ]
    }
   ],
   "source": [
    "print(150. + 200)\n",
    "print(150. - 200)"
   ]
  },
  {
   "cell_type": "markdown",
   "metadata": {},
   "source": [
    "* 변수"
   ]
  },
  {
   "cell_type": "code",
   "execution_count": 7,
   "metadata": {},
   "outputs": [],
   "source": [
    "name = '홍길동'\n",
    "greeting = '안녕'"
   ]
  },
  {
   "cell_type": "code",
   "execution_count": 8,
   "metadata": {},
   "outputs": [
    {
     "name": "stdout",
     "output_type": "stream",
     "text": [
      "홍길동 안녕\n",
      "안녕 홍길동\n"
     ]
    }
   ],
   "source": [
    "print(name, greeting)\n",
    "print(greeting, name)"
   ]
  },
  {
   "cell_type": "code",
   "execution_count": 9,
   "metadata": {},
   "outputs": [
    {
     "name": "stdout",
     "output_type": "stream",
     "text": [
      "홍길동님, 안녕하세요\n"
     ]
    }
   ],
   "source": [
    "text = name + '님, ' + greeting + '하세요'\n",
    "print(text)"
   ]
  },
  {
   "cell_type": "code",
   "execution_count": 10,
   "metadata": {
    "collapsed": true
   },
   "outputs": [],
   "source": [
    "coffee1_name = '카페라떼';  coffee1_val = 4000;\n",
    "coffee2_name = '카푸치노';  coffee2_val = 4500;\n",
    "coffee3_name = '마끼야또';  coffee3_val = 5000;"
   ]
  },
  {
   "cell_type": "code",
   "execution_count": 11,
   "metadata": {},
   "outputs": [
    {
     "name": "stdout",
     "output_type": "stream",
     "text": [
      "손님, 카페라떼카푸치노마끼야또를 주문하셨습니다.\n"
     ]
    },
    {
     "ename": "TypeError",
     "evalue": "must be str, not int",
     "output_type": "error",
     "traceback": [
      "\u001b[0;31m---------------------------------------------------------------------------\u001b[0m",
      "\u001b[0;31mTypeError\u001b[0m                                 Traceback (most recent call last)",
      "\u001b[0;32m<ipython-input-11-dd6755975de7>\u001b[0m in \u001b[0;36m<module>\u001b[0;34m()\u001b[0m\n\u001b[1;32m      1\u001b[0m \u001b[0mprint\u001b[0m\u001b[0;34m(\u001b[0m\u001b[0;34m'손님, '\u001b[0m \u001b[0;34m+\u001b[0m \u001b[0mcoffee1_name\u001b[0m \u001b[0;34m+\u001b[0m \u001b[0mcoffee2_name\u001b[0m \u001b[0;34m+\u001b[0m \u001b[0mcoffee3_name\u001b[0m \u001b[0;34m+\u001b[0m \u001b[0;34m'를 주문하셨습니다.'\u001b[0m\u001b[0;34m)\u001b[0m\u001b[0;34m\u001b[0m\u001b[0m\n\u001b[0;32m----> 2\u001b[0;31m \u001b[0mprint\u001b[0m\u001b[0;34m(\u001b[0m\u001b[0;34m'가격은 '\u001b[0m \u001b[0;34m+\u001b[0m \u001b[0mcoffee1_val\u001b[0m \u001b[0;34m+\u001b[0m \u001b[0mcoffee2_val\u001b[0m \u001b[0;34m+\u001b[0m \u001b[0mcoffee3_val\u001b[0m \u001b[0;34m+\u001b[0m \u001b[0;34m'원 입니다.'\u001b[0m\u001b[0;34m)\u001b[0m\u001b[0;34m\u001b[0m\u001b[0m\n\u001b[0m",
      "\u001b[0;31mTypeError\u001b[0m: must be str, not int"
     ]
    }
   ],
   "source": [
    "print('손님, ' + coffee1_name + coffee2_name + coffee3_name + '를 주문하셨습니다.')\n",
    "print('가격은 ' + coffee1_val + coffee2_val + coffee3_val + '원 입니다.')"
   ]
  },
  {
   "cell_type": "code",
   "execution_count": 12,
   "metadata": {},
   "outputs": [
    {
     "name": "stdout",
     "output_type": "stream",
     "text": [
      "손님, 카페라떼카푸치노마끼야또를 주문하셨습니다.\n",
      "가격은 13500원 입니다.\n"
     ]
    }
   ],
   "source": [
    "print('손님, ' + coffee1_name + coffee2_name + coffee3_name + '를 주문하셨습니다.')\n",
    "print('가격은 ' + str(coffee1_val + coffee2_val + coffee3_val) + '원 입니다.')"
   ]
  },
  {
   "cell_type": "code",
   "execution_count": 13,
   "metadata": {},
   "outputs": [
    {
     "name": "stdout",
     "output_type": "stream",
     "text": [
      "손님, \n",
      "카페라떼, 카푸치노, 마끼야또를 주문하셨습니다.\n",
      "가격은 13500원 입니다.\n"
     ]
    }
   ],
   "source": [
    "# 출력1\n",
    "print('손님, \\n' + coffee1_name + ', '+ coffee2_name + ', ' + coffee3_name + '를 주문하셨습니다.')\n",
    "print('가격은 ' + str(coffee1_val + coffee2_val + coffee3_val) + '원 입니다.')"
   ]
  },
  {
   "cell_type": "code",
   "execution_count": 14,
   "metadata": {},
   "outputs": [],
   "source": [
    "coffee_val = coffee1_val + coffee2_val + coffee3_val"
   ]
  },
  {
   "cell_type": "code",
   "execution_count": 15,
   "metadata": {},
   "outputs": [
    {
     "name": "stdout",
     "output_type": "stream",
     "text": [
      "손님, \n",
      "카페라떼, 카푸치노, 마끼야또를 주문하셨습니다.\n",
      "가격은 13500원 입니다.\n"
     ]
    }
   ],
   "source": [
    "# 출력2\n",
    "print('손님, \\n%s, %s, %s를 주문하셨습니다.' % (coffee1_name, coffee2_name, coffee3_name))\n",
    "print('가격은 %d원 입니다.' % coffee_val)"
   ]
  },
  {
   "cell_type": "code",
   "execution_count": 16,
   "metadata": {},
   "outputs": [
    {
     "name": "stdout",
     "output_type": "stream",
     "text": [
      "손님, \n",
      "카페라떼, 카푸치노, 마끼야또를 주문하셨습니다.\n",
      "가격은 13500원 입니다.\n"
     ]
    }
   ],
   "source": [
    "# 출력3\n",
    "print('손님, \\n{}, {}, {}를 주문하셨습니다.\\n가격은 {}원 입니다.'.format(\n",
    "    coffee1_name, coffee2_name, coffee3_name, coffee_val\n",
    "))"
   ]
  },
  {
   "cell_type": "markdown",
   "metadata": {},
   "source": [
    "<font color='brown'>\n",
    "### 키보드로 입력받기"
   ]
  },
  {
   "cell_type": "code",
   "execution_count": 17,
   "metadata": {},
   "outputs": [],
   "source": [
    "name = input('당신의 이름은 무엇입니까? ')"
   ]
  },
  {
   "cell_type": "code",
   "execution_count": 18,
   "metadata": {},
   "outputs": [
    {
     "name": "stdout",
     "output_type": "stream",
     "text": [
      "하나님, 반갑습니다.\n"
     ]
    }
   ],
   "source": [
    "print(name + '님, 반갑습니다.')"
   ]
  },
  {
   "cell_type": "code",
   "execution_count": 19,
   "metadata": {},
   "outputs": [],
   "source": [
    "order = input('DD카페입니다. \\n무엇을 주문하시겠습니까? ')\n",
    "count = input('몇 잔을 드릴까요? ')"
   ]
  },
  {
   "cell_type": "code",
   "execution_count": 20,
   "metadata": {},
   "outputs": [
    {
     "name": "stdout",
     "output_type": "stream",
     "text": [
      "아메리카노 2잔을 주문하셨습니다. \n",
      "잠시만 기다려주세요~^^\n"
     ]
    }
   ],
   "source": [
    "print('%s %s잔을 주문하셨습니다. \\n잠시만 기다려주세요~^^' % (order, count))"
   ]
  },
  {
   "cell_type": "code",
   "execution_count": 21,
   "metadata": {},
   "outputs": [
    {
     "name": "stdout",
     "output_type": "stream",
     "text": [
      "아메리카노 2잔을 주문하셨습니다. \n",
      "결재하실 금액은 2222222222222222222222222222222222222222222222222222222222222222222222222222222222222222222222222222222222222222222222222222222222222222222222222222222222222222222222222222222222222222222222222222222222222222222222222222222222222222222222222222222222222222222222222222222222222222222222222222222222222222222222222222222222222222222222222222222222222222222222222222222222222222222222222222222222222222222222222222222222222222222222222222222222222222222222222222222222222222222222222222222222222222222222222222222222222222222222222222222222222222222222222222222222222222222222222222222222222222222222222222222222222222222222222222222222222222222222222222222222222222222222222222222222222222222222222222222222222222222222222222222222222222222222222222222222222222222222222222222222222222222222222222222222222222222222222222222222222222222222222222222222222222222222222222222222222222222222222222222222222222222222222222222222222222222222222222222222222222222222222222222222222222222222222222222222222222222222222222222222222222222222222222222222222222222222222222222222222222222222222222222222222222222222222222222222222222222222222222222222222222222222222222222222222222222222222222222222222222222222222222222222222222222222222222222222222222222222222222222222222222222222222222222222222222222222222222222222222222222222222222222222222222222222222222222222222222222222222222222222222222222222222222222222222222222222222222222222222222222222222222222222222222222222222222222222222222222222222222222222222222222222222222222222222222222222222222222222222222222222222222222222222222222222222222222222222222222222222222222222222222222222222222222222222222222222222222222222222222222222222222222222222222222222222222222222222222222222222222222222222222222222222222222222222222222222222222222222222222222222222222222222222222222222222222222222222222222222222222222222222222222222222222222222222222222222222222222222222222222222222222222222222222222222222222222222222222222222222222222222222222222222222222222222222222222222222222222222222222222222222222222222222222222222222222222222222222222222222222222222222222222222222222222222222222222222222222222222222222222222222222222222222222222222222222222222222222222222222222222222222222222222222222222222222222222222222222222222222222222222222222222222222222222222222222222222222222222222222222222222222222222222222222222222222222222222222222222222222222222222222222222222222222222222222222222222222222222222222222222222222222222222222222222222222222222222222222원입니다~^^\n"
     ]
    }
   ],
   "source": [
    "price = 2500\n",
    "cost  = price * count\n",
    "\n",
    "print('%s %s잔을 주문하셨습니다. \\n결재하실 금액은 %s원입니다~^^' % (order, count, cost))"
   ]
  },
  {
   "cell_type": "code",
   "execution_count": 22,
   "metadata": {},
   "outputs": [
    {
     "name": "stdout",
     "output_type": "stream",
     "text": [
      "아메리카노 2잔을 주문하셨습니다. \n",
      "결재하실 금액은 5000원입니다~^^\n"
     ]
    }
   ],
   "source": [
    "price = 2500\n",
    "cost  = price * int(count)\n",
    "\n",
    "print('%s %s잔을 주문하셨습니다. \\n결재하실 금액은 %d원입니다~^^' % (order, count, cost))"
   ]
  },
  {
   "cell_type": "markdown",
   "metadata": {},
   "source": [
    "<font color='brown'>\n",
    "### 숫자형 데이터"
   ]
  },
  {
   "cell_type": "code",
   "execution_count": 23,
   "metadata": {},
   "outputs": [
    {
     "name": "stdout",
     "output_type": "stream",
     "text": [
      "x =  20\n",
      "y =  5.0\n",
      "x + y =  25.0\n",
      "x - y =  15.0\n",
      "x * y =  100.0\n",
      "x / y =  4.0\n",
      "x //y =  4.0\n",
      "x % y =  0.0\n",
      "-x =  -20\n",
      "+x =  20\n",
      "x**y =  3200000.0\n",
      "pow(x,y) =  3200000.0\n"
     ]
    }
   ],
   "source": [
    "x = 20\n",
    "y = 5.\n",
    "\n",
    "print(\"x = \", x)\n",
    "print(\"y = \", y)\n",
    "print(\"x + y = \" , x+y)\n",
    "print(\"x - y = \" , x-y)\n",
    "print(\"x * y = \" , x*y)\n",
    "print(\"x / y = \" , x/y)\n",
    "print(\"x //y = \" , x//y)\n",
    "print(\"x % y = \" , x%y)\n",
    "print(\"-x = \"    , -x)\n",
    "print(\"+x = \"    , +x)\n",
    "print(\"x**y = \"  , x**y)\n",
    "print(\"pow(x,y) = \", pow(x,y))"
   ]
  },
  {
   "cell_type": "markdown",
   "metadata": {},
   "source": [
    "<font color='brown'>\n",
    "###  불린형 데이터"
   ]
  },
  {
   "cell_type": "code",
   "execution_count": 24,
   "metadata": {},
   "outputs": [
    {
     "name": "stdout",
     "output_type": "stream",
     "text": [
      "x == y =  False\n",
      "x != y =  True\n",
      "x < y  =  True\n",
      "x > y  =  False\n",
      "int(True)  =  1\n",
      "int(False) =  0\n"
     ]
    }
   ],
   "source": [
    "# 비교연산자와 논리연산자\n",
    "x = 2\n",
    "y = 3\n",
    "\n",
    "print(\"x == y = \", x==y)\n",
    "print(\"x != y = \", x!=y)\n",
    "\n",
    "print(\"x < y  = \", x<y)\n",
    "print(\"x > y  = \", x>y)\n",
    "\n",
    "print(\"int(True)  = \", int(True))\n",
    "print(\"int(False) = \", int(False))\n"
   ]
  },
  {
   "cell_type": "code",
   "execution_count": 25,
   "metadata": {},
   "outputs": [
    {
     "name": "stdout",
     "output_type": "stream",
     "text": [
      "True\n",
      "False\n"
     ]
    }
   ],
   "source": [
    "a = True\n",
    "b = False\n",
    "\n",
    "print(a == 1)        # True가 출력됨\n",
    "print(b != 0)        # False가 출력됨"
   ]
  },
  {
   "cell_type": "code",
   "execution_count": 26,
   "metadata": {},
   "outputs": [
    {
     "name": "stdout",
     "output_type": "stream",
     "text": [
      "False\n",
      "True\n",
      "False\n",
      "True\n",
      "True\n"
     ]
    }
   ],
   "source": [
    "# 관계 연산자 (==, !=, ＜, ＜=, ＞, ＞=)\n",
    "x = 100;  y = 200\n",
    "str1 = 'java'; \n",
    "str2 = 'python'\n",
    "\n",
    "print(x == y)\n",
    "print(x != y)\n",
    "print(str1 == str2)\n",
    "print(str2 == 'python')\n",
    "print(str1 < str2)"
   ]
  },
  {
   "cell_type": "code",
   "execution_count": 27,
   "metadata": {},
   "outputs": [
    {
     "name": "stdout",
     "output_type": "stream",
     "text": [
      "False\n",
      "True\n",
      "True\n",
      "False\n",
      "False\n",
      "True\n"
     ]
    }
   ],
   "source": [
    "# 논리 연산자 (and, or, not)\n",
    "bool1 = True; bool2 = False; \n",
    "bool3 = True; bool4 = False\n",
    "\n",
    "print(bool1 and bool2)\n",
    "print(bool1 and bool3)\n",
    "print(bool2 or bool3)\n",
    "print(bool2 or bool4)\n",
    "print(not bool1)\n",
    "print(not bool2)"
   ]
  },
  {
   "cell_type": "markdown",
   "metadata": {},
   "source": [
    "<font color='brown'>\n",
    "###  문자형 데이터"
   ]
  },
  {
   "cell_type": "code",
   "execution_count": 28,
   "metadata": {},
   "outputs": [
    {
     "name": "stdout",
     "output_type": "stream",
     "text": [
      "# 두가지 장벽 뛰어넘기\n",
      "1.디버깅극복 : 무조건 실행시킨다\n",
      "2.안보고코딩 : 혼자서 작성해본다\n",
      "\n",
      "'모르는건 언제든 질문하기'\n",
      "\"절대로 포기하기 없기\"\n",
      "\n"
     ]
    }
   ],
   "source": [
    "message = \"\"\"# 두가지 장벽 뛰어넘기\n",
    "1.디버깅극복 : 무조건 실행시킨다\n",
    "2.안보고코딩 : 혼자서 작성해본다\n",
    "\n",
    "'모르는건 언제든 질문하기'\n",
    "\"절대로 포기하기 없기\"\n",
    "\"\"\"\n",
    "print(message)"
   ]
  },
  {
   "cell_type": "code",
   "execution_count": 29,
   "metadata": {},
   "outputs": [
    {
     "name": "stdout",
     "output_type": "stream",
     "text": [
      "True\n",
      "True\n",
      "False\n",
      "Python 프로그래밍은 재미있어요!\n"
     ]
    }
   ],
   "source": [
    "test = '파이썬 프로그래밍은 재미있어요!'    # 문자열을 변수에 저장\n",
    "\n",
    "result = test.startswith('파이썬')          # 문자열이 '파이썬으로 시작하는지 확인\n",
    "print(result)\n",
    "result = test.endswith('!')               # 문자열이 '!'로 끝나는지 확인\n",
    "print(result)\n",
    "result = test.endswith('어려워요!')          # 문자열이 '어려워요!'로 끝나는지 확인\n",
    "print(result)\n",
    "result = test.replace('파이썬', 'Python')   # 문자열중 '파이썬'을 'Python'으로 변경\n",
    "print(result)\n"
   ]
  },
  {
   "cell_type": "code",
   "execution_count": 30,
   "metadata": {},
   "outputs": [
    {
     "name": "stdout",
     "output_type": "stream",
     "text": [
      "LIFE IS TOO SHORT. YOU NEED PYTHON!\n",
      "life is too short. you need python!\n",
      "L/i/f/e/ /i/s/ /t/o/o/ /s/h/o/r/t/./ /Y/o/u/ /n/e/e/d/ /p/y/t/h/o/n/!\n"
     ]
    }
   ],
   "source": [
    "test = 'Python Programming is Interesting!'\n",
    "test = 'Life is too short. You need python!'\n",
    "\n",
    "result = test.upper()        # 문자열을 모두 대문자로 변경\n",
    "print(result)\n",
    "result = test.lower()        # 문자열을 모두 소문자로 변경\n",
    "print(result)\n",
    "result = '/'.join(test)      # 문자열의 각 문자 사이에 '/'문자 집어 넣기\n",
    "print(result)\n"
   ]
  },
  {
   "cell_type": "markdown",
   "metadata": {},
   "source": [
    "<hr>\n",
    "<marquee><font size=3 color='brown'>The BigpyCraft find the information to design valuable society with Technology & Craft.</font></marquee>\n",
    "<div align='right'><font size=2 color='gray'> &lt; The End &gt; </font></div>"
   ]
  }
 ],
 "metadata": {
  "kernelspec": {
   "display_name": "Python 3",
   "language": "python",
   "name": "python3"
  },
  "language_info": {
   "codemirror_mode": {
    "name": "ipython",
    "version": 3
   },
   "file_extension": ".py",
   "mimetype": "text/x-python",
   "name": "python",
   "nbconvert_exporter": "python",
   "pygments_lexer": "ipython3",
   "version": "3.6.5"
  }
 },
 "nbformat": 4,
 "nbformat_minor": 2
}
